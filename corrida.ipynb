{
 "cells": [
  {
   "cell_type": "markdown",
   "metadata": {},
   "source": [
    "# Programação Funcional e Orientada a Objetos\n",
    "\n",
    "## Prof. Neylson Crepalde\n",
    "\n",
    "### Programando uma corrida de carros"
   ]
  },
  {
   "cell_type": "code",
   "execution_count": 1,
   "metadata": {},
   "outputs": [],
   "source": [
    "class Carro:\n",
    "    \n",
    "    def __init__(self, modelo, potencia):\n",
    "        self.modelo = modelo\n",
    "        self.potencia = potencia\n",
    "        self.velocidade = 0\n",
    "    \n",
    "    def acelerar(self):\n",
    "        self.velocidade += self.potencia\n",
    "        \n",
    "    def frear(self):\n",
    "        if self.velocidade == 0:\n",
    "            pass\n",
    "        else:\n",
    "            self.velocidade -= self.potencia"
   ]
  },
  {
   "cell_type": "code",
   "execution_count": 2,
   "metadata": {},
   "outputs": [],
   "source": [
    "import random\n",
    "import numpy as np"
   ]
  },
  {
   "cell_type": "code",
   "execution_count": 3,
   "metadata": {},
   "outputs": [],
   "source": [
    "# Corrida determinística\n",
    "c1 = Carro(\"Palio\", 3)\n",
    "c2 = Carro(\"Corolla\", 6)\n",
    "c3 = Carro(\"Ferrari\", 10)"
   ]
  },
  {
   "cell_type": "code",
   "execution_count": 4,
   "metadata": {},
   "outputs": [
    {
     "name": "stdout",
     "output_type": "stream",
     "text": [
      "[315, 630, 1050]\n",
      "O vencedor foi o carro 3\n"
     ]
    }
   ],
   "source": [
    "distancia = [0,0,0]\n",
    "rodadas = 0\n",
    "while max(distancia) < 1000:\n",
    "    c1.acelerar()\n",
    "    distancia[0] += c1.velocidade\n",
    "    c2.acelerar()\n",
    "    distancia[1] += c2.velocidade\n",
    "    c3.acelerar()\n",
    "    distancia[2] += c3.velocidade\n",
    "    rodadas += 1\n",
    "\n",
    "print(distancia)\n",
    "print(\"O vencedor foi o carro\", np.argmax(distancia)+1)"
   ]
  },
  {
   "cell_type": "code",
   "execution_count": 5,
   "metadata": {},
   "outputs": [
    {
     "name": "stdout",
     "output_type": "stream",
     "text": [
      "[165, 630, 1050]\n",
      "O vencedor foi o carro 3\n"
     ]
    }
   ],
   "source": [
    "c1 = Carro(\"Palio\", 3)\n",
    "c2 = Carro(\"Corolla\", 6)\n",
    "c3 = Carro(\"Ferrari\", 10)\n",
    "\n",
    "# Corrida com sorte\n",
    "distancia = [0,0,0]\n",
    "rodadas = 0\n",
    "while max(distancia) < 1000:\n",
    "    if random.uniform(0,1) < .5:\n",
    "        c1.acelerar()\n",
    "        distancia[0] += c1.velocidade\n",
    "    if random.uniform(0,1) < .5:\n",
    "        c2.acelerar()\n",
    "        distancia[1] += c2.velocidade\n",
    "    if random.uniform(0,1) < .5:\n",
    "        c3.acelerar()\n",
    "        distancia[2] += c3.velocidade\n",
    "    rodadas += 1\n",
    "\n",
    "print(distancia)\n",
    "print(\"O vencedor foi o carro\", np.argmax(distancia)+1)"
   ]
  },
  {
   "cell_type": "code",
   "execution_count": 6,
   "metadata": {},
   "outputs": [],
   "source": [
    "# Corrida com habilidade do Motorista\n",
    "class Carro:\n",
    "    \n",
    "    def __init__(self, modelo, potencia, habilidade):\n",
    "        self.modelo = modelo\n",
    "        self.potencia = potencia\n",
    "        self.velocidade = 0\n",
    "        self.habilidade = habilidade\n",
    "    \n",
    "    def acelerar(self):\n",
    "        self.velocidade += (self.potencia*self.habilidade)/2\n",
    "        \n",
    "    def frear(self):\n",
    "        if self.velocidade == 0:\n",
    "            pass\n",
    "        else:\n",
    "            self.velocidade -= self.potencia"
   ]
  },
  {
   "cell_type": "code",
   "execution_count": 7,
   "metadata": {},
   "outputs": [
    {
     "name": "stdout",
     "output_type": "stream",
     "text": [
      "[540.0, 1170.0, 825.0]\n",
      "O vencedor foi o carro 2\n"
     ]
    }
   ],
   "source": [
    "c1 = Carro(\"Palio\", 3, 10)\n",
    "c2 = Carro(\"Corolla\", 6, 5)\n",
    "c3 = Carro(\"Ferrari\", 10, 3)\n",
    "\n",
    "distancia = [0,0,0]\n",
    "rodadas = 0\n",
    "while max(distancia) < 1000:\n",
    "    if random.uniform(0,1) < .5:\n",
    "        c1.acelerar()\n",
    "        distancia[0] += c1.velocidade\n",
    "    if random.uniform(0,1) < .5:\n",
    "        c2.acelerar()\n",
    "        distancia[1] += c2.velocidade\n",
    "    if random.uniform(0,1) < .5:\n",
    "        c3.acelerar()\n",
    "        distancia[2] += c3.velocidade\n",
    "    rodadas += 1\n",
    "\n",
    "print(distancia)\n",
    "print(\"O vencedor foi o carro\", np.argmax(distancia)+1)"
   ]
  }
 ],
 "metadata": {
  "kernelspec": {
   "display_name": "Python 3",
   "language": "python",
   "name": "python3"
  },
  "language_info": {
   "codemirror_mode": {
    "name": "ipython",
    "version": 3
   },
   "file_extension": ".py",
   "mimetype": "text/x-python",
   "name": "python",
   "nbconvert_exporter": "python",
   "pygments_lexer": "ipython3",
   "version": "3.6.6"
  }
 },
 "nbformat": 4,
 "nbformat_minor": 2
}
